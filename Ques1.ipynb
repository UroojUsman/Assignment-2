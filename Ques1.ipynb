{
 "cells": [
  {
   "cell_type": "code",
   "execution_count": 6,
   "metadata": {},
   "outputs": [
    {
     "name": "stdout",
     "output_type": "stream",
     "text": [
      "Enter marks obtained in 5 subjects: \n",
      "80\n",
      "90\n",
      "50\n",
      "73\n",
      "89\n",
      "Your Grade is B+\n"
     ]
    }
   ],
   "source": [
    "print(\"Enter marks obtained in 5 subjects: \")\n",
    "mark1 = int(input())\n",
    "mark2 = int(input())\n",
    "mark3 = int(input())\n",
    "mark4 = int(input())\n",
    "mark5 = int(input())\n",
    "sum = mark1 + mark2 + mark3 + mark4 + mark5\n",
    "average = sum/5\n",
    "if(average>=91 and average<=100):\n",
    "    print(\"Your Grade is A+\")\n",
    "elif(average>=81 and average<=90):\n",
    "    print(\"Your Grade is A\")\n",
    "elif(average>=71 and average<=80):\n",
    "    print(\"Your Grade is B+\")\n",
    "elif(average>=61 and average<=70):\n",
    "    print(\"Your Grade is B\")\n",
    "elif(average>=51 and average<=60):\n",
    "    print(\"Your Grade is C+\")\n",
    "elif(average>=41 and average<=50):\n",
    "    print(\"Your Grade is C\")\n",
    "elif(average>=0 and average<=40):\n",
    "    print(\"Your Grade is F\")\n",
    "else:\n",
    "    print(\"Strange Grade..!!\")"
   ]
  },
  {
   "cell_type": "code",
   "execution_count": null,
   "metadata": {},
   "outputs": [],
   "source": []
  }
 ],
 "metadata": {
  "kernelspec": {
   "display_name": "Python 3",
   "language": "python",
   "name": "python3"
  },
  "language_info": {
   "codemirror_mode": {
    "name": "ipython",
    "version": 3
   },
   "file_extension": ".py",
   "mimetype": "text/x-python",
   "name": "python",
   "nbconvert_exporter": "python",
   "pygments_lexer": "ipython3",
   "version": "3.7.3"
  }
 },
 "nbformat": 4,
 "nbformat_minor": 2
}
